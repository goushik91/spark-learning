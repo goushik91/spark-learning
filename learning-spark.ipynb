{
 "cells": [
  {
   "cell_type": "code",
   "execution_count": 2,
   "metadata": {},
   "outputs": [
    {
     "name": "stdout",
     "output_type": "stream",
     "text": [
      "22/08/03 21:14:26 WARN Utils: Your hostname, LAPTOP-ET88UAT2 resolves to a loopback address: 127.0.1.1; using 172.31.121.237 instead (on interface eth0)\n",
      "22/08/03 21:14:26 WARN Utils: Set SPARK_LOCAL_IP if you need to bind to another address\n"
     ]
    },
    {
     "name": "stderr",
     "output_type": "stream",
     "text": [
      "Setting default log level to \"WARN\".\n",
      "To adjust logging level use sc.setLogLevel(newLevel). For SparkR, use setLogLevel(newLevel).\n"
     ]
    },
    {
     "name": "stdout",
     "output_type": "stream",
     "text": [
      "22/08/03 21:14:28 WARN NativeCodeLoader: Unable to load native-hadoop library for your platform... using builtin-java classes where applicable\n"
     ]
    }
   ],
   "source": [
    "from pyspark.sql import SparkSession\n",
    "\n",
    "spark = SparkSession.builder.appName(\"Learning\").getOrCreate()"
   ]
  },
  {
   "cell_type": "code",
   "execution_count": 29,
   "metadata": {},
   "outputs": [
    {
     "name": "stdout",
     "output_type": "stream",
     "text": [
      "root\n",
      " |-- ORDERNUMBER: integer (nullable = true)\n",
      " |-- QUANTITYORDERED: integer (nullable = true)\n",
      " |-- PRICEEACH: double (nullable = true)\n",
      " |-- ORDERLINENUMBER: integer (nullable = true)\n",
      " |-- SALES: double (nullable = true)\n",
      " |-- ORDERDATE: string (nullable = true)\n",
      " |-- STATUS: string (nullable = true)\n",
      " |-- PRODUCTLINE: string (nullable = true)\n",
      " |-- CUSTOMERNAME: string (nullable = true)\n",
      "\n"
     ]
    }
   ],
   "source": [
    "# Create Dataframe from csv file using infer schema\n",
    "sales_df = spark.read.csv(path=\"/apps/notebook/files/sales_data_sample.csv\", inferSchema=True, header=True, quote='\"')\n",
    "sales_df.printSchema()"
   ]
  },
  {
   "cell_type": "code",
   "execution_count": 49,
   "metadata": {},
   "outputs": [
    {
     "name": "stdout",
     "output_type": "stream",
     "text": [
      "root\n",
      " |-- ORDERNUMBER: integer (nullable = true)\n",
      " |-- QUANTITYORDERED: integer (nullable = true)\n",
      " |-- PRICEEACH: double (nullable = true)\n",
      " |-- ORDERLINENUMBER: integer (nullable = true)\n",
      " |-- SALES: double (nullable = true)\n",
      " |-- ORDERDATE: string (nullable = true)\n",
      " |-- STATUS: string (nullable = true)\n",
      " |-- PRODUCTLINE: string (nullable = true)\n",
      " |-- CUSTOMERNAME: string (nullable = true)\n",
      "\n"
     ]
    }
   ],
   "source": [
    "from pyspark.sql.types import StructField, StructType, DoubleType, StringType, IntegerType\n",
    "\n",
    "sales_df_schema = StructType([StructField(\"ORDERNUMBER\", IntegerType(), False),\n",
    "                              StructField(\"QUANTITYORDERED\", IntegerType(), False),\n",
    "                              StructField(\"PRICEEACH\", DoubleType(), False),\n",
    "                              StructField(\"ORDERLINENUMBER\", IntegerType(), True),\n",
    "                              StructField(\"SALES\", DoubleType(), True),\n",
    "                              StructField(\"ORDERDATE\", StringType(), True),\n",
    "                              StructField(\"STATUS\", StringType(), False),\n",
    "                              StructField(\"PRODUCTLINE\", StringType(), True),\n",
    "                              StructField(\"CUSTOMERNAME\", StringType(), True)])\n",
    "\n",
    "# Read dataframe as per the defined schema\n",
    "sales_df_2 = spark.read.csv(path=\"/apps/notebook/files/sales_data_sample.csv\", header=True, schema=sales_df_schema)\n",
    "sales_df_2.printSchema()"
   ]
  },
  {
   "cell_type": "code",
   "execution_count": 60,
   "metadata": {},
   "outputs": [
    {
     "name": "stdout",
     "output_type": "stream",
     "text": [
      "root\n",
      " |-- ORDERNUMBER: integer (nullable = true)\n",
      " |-- QUANTITYORDERED: integer (nullable = true)\n",
      " |-- PRICEEACH: double (nullable = true)\n",
      " |-- ORDERLINENUMBER: integer (nullable = true)\n",
      " |-- SALES: double (nullable = true)\n",
      " |-- ORDERDATE: string (nullable = true)\n",
      " |-- STATUS: string (nullable = true)\n",
      " |-- PRODUCTLINE: string (nullable = true)\n",
      " |-- CUSTOMERNAME: string (nullable = true)\n",
      "\n"
     ]
    }
   ],
   "source": [
    "DDL_String = \"ORDERNUMBER integer, QUANTITYORDERED integer, PRICEEACH double, ORDERLINENUMBER integer, \\\n",
    "              SALES double, ORDERDATE string, STATUS string, PRODUCTLINE string, CUSTOMERNAME string\"\n",
    "\n",
    "# Read dataframe as per the defined schema\n",
    "sales_df_3 = spark.read.csv(path=\"/apps/notebook/files/sales_data_sample.csv\", header=True, schema=DDL_String)\n",
    "sales_df_3.printSchema()"
   ]
  }
 ],
 "metadata": {
  "kernelspec": {
   "display_name": "Python 3.9.7 64-bit",
   "language": "python",
   "name": "python3"
  },
  "language_info": {
   "codemirror_mode": {
    "name": "ipython",
    "version": 3
   },
   "file_extension": ".py",
   "mimetype": "text/x-python",
   "name": "python",
   "nbconvert_exporter": "python",
   "pygments_lexer": "ipython3",
   "version": "3.9.7"
  },
  "orig_nbformat": 4,
  "vscode": {
   "interpreter": {
    "hash": "397704579725e15f5c7cb49fe5f0341eb7531c82d19f2c29d197e8b64ab5776b"
   }
  }
 },
 "nbformat": 4,
 "nbformat_minor": 2
}
